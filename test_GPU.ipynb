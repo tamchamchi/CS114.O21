{
 "cells": [
  {
   "cell_type": "code",
   "execution_count": 1,
   "metadata": {},
   "outputs": [
    {
     "name": "stdout",
     "output_type": "stream",
     "text": [
      "TF version:  2.10.1\n",
      "GPU available (YESSSSSS!!!!!!!)\n"
     ]
    }
   ],
   "source": [
    "# Import TensorFlow into jupyter notebook\n",
    "import tensorflow as tf\n",
    "print(\"TF version: \", tf.__version__)\n",
    "# Check for GPU availability\n",
    "print(\"GPU\", \"available (YESSSSSS!!!!!!!)\" if tf.config.list_physical_devices(\"GPU\") else \"not available :()\")"
   ]
  }
 ],
 "metadata": {
  "kernelspec": {
   "display_name": "GPU",
   "language": "python",
   "name": "python3"
  },
  "language_info": {
   "codemirror_mode": {
    "name": "ipython",
    "version": 3
   },
   "file_extension": ".py",
   "mimetype": "text/x-python",
   "name": "python",
   "nbconvert_exporter": "python",
   "pygments_lexer": "ipython3",
   "version": "3.9.19"
  }
 },
 "nbformat": 4,
 "nbformat_minor": 2
}
